{
  "nbformat": 4,
  "nbformat_minor": 0,
  "metadata": {
    "colab": {
      "provenance": [],
      "authorship_tag": "ABX9TyN70iH7fCfH/g2zo/5PaAJa",
      "include_colab_link": true
    },
    "kernelspec": {
      "name": "python3",
      "display_name": "Python 3"
    },
    "language_info": {
      "name": "python"
    }
  },
  "cells": [
    {
      "cell_type": "markdown",
      "metadata": {
        "id": "view-in-github",
        "colab_type": "text"
      },
      "source": [
        "<a href=\"https://colab.research.google.com/github/AshikSathiya/Project2/blob/main/Project_2.ipynb\" target=\"_parent\"><img src=\"https://colab.research.google.com/assets/colab-badge.svg\" alt=\"Open In Colab\"/></a>"
      ]
    },
    {
      "cell_type": "markdown",
      "source": [
        "#Project 2\n",
        "\n",
        "---\n",
        "\n"
      ],
      "metadata": {
        "id": "YNKHvzSFL0JY"
      }
    },
    {
      "cell_type": "code",
      "source": [
        "import matplotlib.pyplot as plt\n",
        "import seaborn as sns\n",
        "import pandas as pd\n",
        "import numpy as np"
      ],
      "metadata": {
        "id": "tLlrtiZ2T0Tc"
      },
      "execution_count": 2,
      "outputs": []
    },
    {
      "cell_type": "code",
      "source": [
        "from google.colab import drive\n",
        "drive.mount('/content/drive')"
      ],
      "metadata": {
        "colab": {
          "base_uri": "https://localhost:8080/"
        },
        "id": "ugwBZe5pTQ3v",
        "outputId": "654ffbcb-29ff-4e44-f0bb-ae966843f061"
      },
      "execution_count": 1,
      "outputs": [
        {
          "output_type": "stream",
          "name": "stdout",
          "text": [
            "Mounted at /content/drive\n"
          ]
        }
      ]
    },
    {
      "cell_type": "markdown",
      "source": [
        "#First choice: Body Fat Prediction Dataset\n"
      ],
      "metadata": {
        "id": "IBQE2aEHL4VY"
      }
    },
    {
      "cell_type": "code",
      "source": [
        "# load the dataset\n",
        "fpath = '/content/drive/MyDrive/CodingDojo/Project 2/bodyfat.csv'\n",
        "df = pd.read_csv(fpath, header=None)\n",
        "\n",
        "df.info()\n",
        "df.head()"
      ],
      "metadata": {
        "colab": {
          "base_uri": "https://localhost:8080/",
          "height": 601
        },
        "id": "23LZo_DETbsZ",
        "outputId": "476ab2f4-3068-41be-cb28-3835b2de5f3c"
      },
      "execution_count": 3,
      "outputs": [
        {
          "output_type": "stream",
          "name": "stdout",
          "text": [
            "<class 'pandas.core.frame.DataFrame'>\n",
            "RangeIndex: 253 entries, 0 to 252\n",
            "Data columns (total 15 columns):\n",
            " #   Column  Non-Null Count  Dtype \n",
            "---  ------  --------------  ----- \n",
            " 0   0       253 non-null    object\n",
            " 1   1       253 non-null    object\n",
            " 2   2       253 non-null    object\n",
            " 3   3       253 non-null    object\n",
            " 4   4       253 non-null    object\n",
            " 5   5       253 non-null    object\n",
            " 6   6       253 non-null    object\n",
            " 7   7       253 non-null    object\n",
            " 8   8       253 non-null    object\n",
            " 9   9       253 non-null    object\n",
            " 10  10      253 non-null    object\n",
            " 11  11      253 non-null    object\n",
            " 12  12      253 non-null    object\n",
            " 13  13      253 non-null    object\n",
            " 14  14      253 non-null    object\n",
            "dtypes: object(15)\n",
            "memory usage: 29.8+ KB\n"
          ]
        },
        {
          "output_type": "execute_result",
          "data": {
            "text/plain": [
              "        0        1    2       3       4     5      6        7      8      9   \\\n",
              "0  Density  BodyFat  Age  Weight  Height  Neck  Chest  Abdomen    Hip  Thigh   \n",
              "1   1.0708     12.3   23  154.25   67.75  36.2   93.1     85.2   94.5   59.0   \n",
              "2   1.0853      6.1   22  173.25   72.25  38.5   93.6     83.0   98.7   58.7   \n",
              "3   1.0414     25.3   22  154.00   66.25  34.0   95.8     87.9   99.2   59.6   \n",
              "4   1.0751     10.4   26  184.75   72.25  37.4  101.8     86.4  101.2   60.1   \n",
              "\n",
              "     10     11      12       13     14  \n",
              "0  Knee  Ankle  Biceps  Forearm  Wrist  \n",
              "1  37.3   21.9    32.0     27.4   17.1  \n",
              "2  37.3   23.4    30.5     28.9   18.2  \n",
              "3  38.9   24.0    28.8     25.2   16.6  \n",
              "4  37.3   22.8    32.4     29.4   18.2  "
            ],
            "text/html": [
              "\n",
              "\n",
              "  <div id=\"df-7b7733b7-f5c1-4df8-98ca-c652483a2947\">\n",
              "    <div class=\"colab-df-container\">\n",
              "      <div>\n",
              "<style scoped>\n",
              "    .dataframe tbody tr th:only-of-type {\n",
              "        vertical-align: middle;\n",
              "    }\n",
              "\n",
              "    .dataframe tbody tr th {\n",
              "        vertical-align: top;\n",
              "    }\n",
              "\n",
              "    .dataframe thead th {\n",
              "        text-align: right;\n",
              "    }\n",
              "</style>\n",
              "<table border=\"1\" class=\"dataframe\">\n",
              "  <thead>\n",
              "    <tr style=\"text-align: right;\">\n",
              "      <th></th>\n",
              "      <th>0</th>\n",
              "      <th>1</th>\n",
              "      <th>2</th>\n",
              "      <th>3</th>\n",
              "      <th>4</th>\n",
              "      <th>5</th>\n",
              "      <th>6</th>\n",
              "      <th>7</th>\n",
              "      <th>8</th>\n",
              "      <th>9</th>\n",
              "      <th>10</th>\n",
              "      <th>11</th>\n",
              "      <th>12</th>\n",
              "      <th>13</th>\n",
              "      <th>14</th>\n",
              "    </tr>\n",
              "  </thead>\n",
              "  <tbody>\n",
              "    <tr>\n",
              "      <th>0</th>\n",
              "      <td>Density</td>\n",
              "      <td>BodyFat</td>\n",
              "      <td>Age</td>\n",
              "      <td>Weight</td>\n",
              "      <td>Height</td>\n",
              "      <td>Neck</td>\n",
              "      <td>Chest</td>\n",
              "      <td>Abdomen</td>\n",
              "      <td>Hip</td>\n",
              "      <td>Thigh</td>\n",
              "      <td>Knee</td>\n",
              "      <td>Ankle</td>\n",
              "      <td>Biceps</td>\n",
              "      <td>Forearm</td>\n",
              "      <td>Wrist</td>\n",
              "    </tr>\n",
              "    <tr>\n",
              "      <th>1</th>\n",
              "      <td>1.0708</td>\n",
              "      <td>12.3</td>\n",
              "      <td>23</td>\n",
              "      <td>154.25</td>\n",
              "      <td>67.75</td>\n",
              "      <td>36.2</td>\n",
              "      <td>93.1</td>\n",
              "      <td>85.2</td>\n",
              "      <td>94.5</td>\n",
              "      <td>59.0</td>\n",
              "      <td>37.3</td>\n",
              "      <td>21.9</td>\n",
              "      <td>32.0</td>\n",
              "      <td>27.4</td>\n",
              "      <td>17.1</td>\n",
              "    </tr>\n",
              "    <tr>\n",
              "      <th>2</th>\n",
              "      <td>1.0853</td>\n",
              "      <td>6.1</td>\n",
              "      <td>22</td>\n",
              "      <td>173.25</td>\n",
              "      <td>72.25</td>\n",
              "      <td>38.5</td>\n",
              "      <td>93.6</td>\n",
              "      <td>83.0</td>\n",
              "      <td>98.7</td>\n",
              "      <td>58.7</td>\n",
              "      <td>37.3</td>\n",
              "      <td>23.4</td>\n",
              "      <td>30.5</td>\n",
              "      <td>28.9</td>\n",
              "      <td>18.2</td>\n",
              "    </tr>\n",
              "    <tr>\n",
              "      <th>3</th>\n",
              "      <td>1.0414</td>\n",
              "      <td>25.3</td>\n",
              "      <td>22</td>\n",
              "      <td>154.00</td>\n",
              "      <td>66.25</td>\n",
              "      <td>34.0</td>\n",
              "      <td>95.8</td>\n",
              "      <td>87.9</td>\n",
              "      <td>99.2</td>\n",
              "      <td>59.6</td>\n",
              "      <td>38.9</td>\n",
              "      <td>24.0</td>\n",
              "      <td>28.8</td>\n",
              "      <td>25.2</td>\n",
              "      <td>16.6</td>\n",
              "    </tr>\n",
              "    <tr>\n",
              "      <th>4</th>\n",
              "      <td>1.0751</td>\n",
              "      <td>10.4</td>\n",
              "      <td>26</td>\n",
              "      <td>184.75</td>\n",
              "      <td>72.25</td>\n",
              "      <td>37.4</td>\n",
              "      <td>101.8</td>\n",
              "      <td>86.4</td>\n",
              "      <td>101.2</td>\n",
              "      <td>60.1</td>\n",
              "      <td>37.3</td>\n",
              "      <td>22.8</td>\n",
              "      <td>32.4</td>\n",
              "      <td>29.4</td>\n",
              "      <td>18.2</td>\n",
              "    </tr>\n",
              "  </tbody>\n",
              "</table>\n",
              "</div>\n",
              "      <button class=\"colab-df-convert\" onclick=\"convertToInteractive('df-7b7733b7-f5c1-4df8-98ca-c652483a2947')\"\n",
              "              title=\"Convert this dataframe to an interactive table.\"\n",
              "              style=\"display:none;\">\n",
              "\n",
              "  <svg xmlns=\"http://www.w3.org/2000/svg\" height=\"24px\"viewBox=\"0 0 24 24\"\n",
              "       width=\"24px\">\n",
              "    <path d=\"M0 0h24v24H0V0z\" fill=\"none\"/>\n",
              "    <path d=\"M18.56 5.44l.94 2.06.94-2.06 2.06-.94-2.06-.94-.94-2.06-.94 2.06-2.06.94zm-11 1L8.5 8.5l.94-2.06 2.06-.94-2.06-.94L8.5 2.5l-.94 2.06-2.06.94zm10 10l.94 2.06.94-2.06 2.06-.94-2.06-.94-.94-2.06-.94 2.06-2.06.94z\"/><path d=\"M17.41 7.96l-1.37-1.37c-.4-.4-.92-.59-1.43-.59-.52 0-1.04.2-1.43.59L10.3 9.45l-7.72 7.72c-.78.78-.78 2.05 0 2.83L4 21.41c.39.39.9.59 1.41.59.51 0 1.02-.2 1.41-.59l7.78-7.78 2.81-2.81c.8-.78.8-2.07 0-2.86zM5.41 20L4 18.59l7.72-7.72 1.47 1.35L5.41 20z\"/>\n",
              "  </svg>\n",
              "      </button>\n",
              "\n",
              "\n",
              "\n",
              "    <div id=\"df-7536f54f-f333-4529-9710-f444539dc654\">\n",
              "      <button class=\"colab-df-quickchart\" onclick=\"quickchart('df-7536f54f-f333-4529-9710-f444539dc654')\"\n",
              "              title=\"Suggest charts.\"\n",
              "              style=\"display:none;\">\n",
              "\n",
              "<svg xmlns=\"http://www.w3.org/2000/svg\" height=\"24px\"viewBox=\"0 0 24 24\"\n",
              "     width=\"24px\">\n",
              "    <g>\n",
              "        <path d=\"M19 3H5c-1.1 0-2 .9-2 2v14c0 1.1.9 2 2 2h14c1.1 0 2-.9 2-2V5c0-1.1-.9-2-2-2zM9 17H7v-7h2v7zm4 0h-2V7h2v10zm4 0h-2v-4h2v4z\"/>\n",
              "    </g>\n",
              "</svg>\n",
              "      </button>\n",
              "    </div>\n",
              "\n",
              "<style>\n",
              "  .colab-df-quickchart {\n",
              "    background-color: #E8F0FE;\n",
              "    border: none;\n",
              "    border-radius: 50%;\n",
              "    cursor: pointer;\n",
              "    display: none;\n",
              "    fill: #1967D2;\n",
              "    height: 32px;\n",
              "    padding: 0 0 0 0;\n",
              "    width: 32px;\n",
              "  }\n",
              "\n",
              "  .colab-df-quickchart:hover {\n",
              "    background-color: #E2EBFA;\n",
              "    box-shadow: 0px 1px 2px rgba(60, 64, 67, 0.3), 0px 1px 3px 1px rgba(60, 64, 67, 0.15);\n",
              "    fill: #174EA6;\n",
              "  }\n",
              "\n",
              "  [theme=dark] .colab-df-quickchart {\n",
              "    background-color: #3B4455;\n",
              "    fill: #D2E3FC;\n",
              "  }\n",
              "\n",
              "  [theme=dark] .colab-df-quickchart:hover {\n",
              "    background-color: #434B5C;\n",
              "    box-shadow: 0px 1px 3px 1px rgba(0, 0, 0, 0.15);\n",
              "    filter: drop-shadow(0px 1px 2px rgba(0, 0, 0, 0.3));\n",
              "    fill: #FFFFFF;\n",
              "  }\n",
              "</style>\n",
              "\n",
              "    <script>\n",
              "      async function quickchart(key) {\n",
              "        const containerElement = document.querySelector('#' + key);\n",
              "        const charts = await google.colab.kernel.invokeFunction(\n",
              "            'suggestCharts', [key], {});\n",
              "      }\n",
              "    </script>\n",
              "\n",
              "      <script>\n",
              "\n",
              "function displayQuickchartButton(domScope) {\n",
              "  let quickchartButtonEl =\n",
              "    domScope.querySelector('#df-7536f54f-f333-4529-9710-f444539dc654 button.colab-df-quickchart');\n",
              "  quickchartButtonEl.style.display =\n",
              "    google.colab.kernel.accessAllowed ? 'block' : 'none';\n",
              "}\n",
              "\n",
              "        displayQuickchartButton(document);\n",
              "      </script>\n",
              "      <style>\n",
              "    .colab-df-container {\n",
              "      display:flex;\n",
              "      flex-wrap:wrap;\n",
              "      gap: 12px;\n",
              "    }\n",
              "\n",
              "    .colab-df-convert {\n",
              "      background-color: #E8F0FE;\n",
              "      border: none;\n",
              "      border-radius: 50%;\n",
              "      cursor: pointer;\n",
              "      display: none;\n",
              "      fill: #1967D2;\n",
              "      height: 32px;\n",
              "      padding: 0 0 0 0;\n",
              "      width: 32px;\n",
              "    }\n",
              "\n",
              "    .colab-df-convert:hover {\n",
              "      background-color: #E2EBFA;\n",
              "      box-shadow: 0px 1px 2px rgba(60, 64, 67, 0.3), 0px 1px 3px 1px rgba(60, 64, 67, 0.15);\n",
              "      fill: #174EA6;\n",
              "    }\n",
              "\n",
              "    [theme=dark] .colab-df-convert {\n",
              "      background-color: #3B4455;\n",
              "      fill: #D2E3FC;\n",
              "    }\n",
              "\n",
              "    [theme=dark] .colab-df-convert:hover {\n",
              "      background-color: #434B5C;\n",
              "      box-shadow: 0px 1px 3px 1px rgba(0, 0, 0, 0.15);\n",
              "      filter: drop-shadow(0px 1px 2px rgba(0, 0, 0, 0.3));\n",
              "      fill: #FFFFFF;\n",
              "    }\n",
              "  </style>\n",
              "\n",
              "      <script>\n",
              "        const buttonEl =\n",
              "          document.querySelector('#df-7b7733b7-f5c1-4df8-98ca-c652483a2947 button.colab-df-convert');\n",
              "        buttonEl.style.display =\n",
              "          google.colab.kernel.accessAllowed ? 'block' : 'none';\n",
              "\n",
              "        async function convertToInteractive(key) {\n",
              "          const element = document.querySelector('#df-7b7733b7-f5c1-4df8-98ca-c652483a2947');\n",
              "          const dataTable =\n",
              "            await google.colab.kernel.invokeFunction('convertToInteractive',\n",
              "                                                     [key], {});\n",
              "          if (!dataTable) return;\n",
              "\n",
              "          const docLinkHtml = 'Like what you see? Visit the ' +\n",
              "            '<a target=\"_blank\" href=https://colab.research.google.com/notebooks/data_table.ipynb>data table notebook</a>'\n",
              "            + ' to learn more about interactive tables.';\n",
              "          element.innerHTML = '';\n",
              "          dataTable['output_type'] = 'display_data';\n",
              "          await google.colab.output.renderOutput(dataTable, element);\n",
              "          const docLink = document.createElement('div');\n",
              "          docLink.innerHTML = docLinkHtml;\n",
              "          element.appendChild(docLink);\n",
              "        }\n",
              "      </script>\n",
              "    </div>\n",
              "  </div>\n"
            ]
          },
          "metadata": {},
          "execution_count": 3
        }
      ]
    },
    {
      "cell_type": "markdown",
      "source": [
        "##1. Source of data\n"
      ],
      "metadata": {
        "id": "UuLQhPgcNt3C"
      }
    },
    {
      "cell_type": "markdown",
      "source": [
        "This dataset comes from Kaggle"
      ],
      "metadata": {
        "id": "Ov9u1NKeQspe"
      }
    },
    {
      "cell_type": "markdown",
      "source": [
        "##2. Brief description of data\n",
        "\n"
      ],
      "metadata": {
        "id": "vOxIMfnyNv55"
      }
    },
    {
      "cell_type": "markdown",
      "source": [
        "The dataset contains estimates of the percentage of body fat in 252 men based on underwater weighing and various body circumference measurements. It is suitable for educational purposes to demonstrate multiple regression techniques, aiming to find easier and more cost-effective methods to estimate body fat accurately, as direct measurement through underwater weighing can be inconvenient and costly.\n",
        "\n",
        "\n",
        "\n",
        "\n"
      ],
      "metadata": {
        "id": "MpbIJG91Qwx8"
      }
    },
    {
      "cell_type": "markdown",
      "source": [
        "##3. What is the target?\n",
        "\n"
      ],
      "metadata": {
        "id": "FMVLPfcUN1UO"
      }
    },
    {
      "cell_type": "markdown",
      "source": [
        "Body Fat"
      ],
      "metadata": {
        "id": "9iMvMq27Q86v"
      }
    },
    {
      "cell_type": "markdown",
      "source": [
        "##4. What does one row represent? (A person? A business? An event? A product?)\n",
        "\n"
      ],
      "metadata": {
        "id": "aTaCmeNgN316"
      }
    },
    {
      "cell_type": "markdown",
      "source": [
        "One row represents a man and his measuremnts."
      ],
      "metadata": {
        "id": "kOXuAp5JRMO2"
      }
    },
    {
      "cell_type": "markdown",
      "source": [
        "##5. Is this a classification or regression problem?\n",
        "\n"
      ],
      "metadata": {
        "id": "IF9Onsn3O-fr"
      }
    },
    {
      "cell_type": "markdown",
      "source": [
        "This is a regression model as we are trying to predict the body fat percentage based on features"
      ],
      "metadata": {
        "id": "W2BvkdFPRZCN"
      }
    },
    {
      "cell_type": "markdown",
      "source": [
        "##6. How many features does the data have?\n",
        "\n"
      ],
      "metadata": {
        "id": "G_wE9ueqPAph"
      }
    },
    {
      "cell_type": "markdown",
      "source": [
        "14 features"
      ],
      "metadata": {
        "id": "2C2iEnBiRlJU"
      }
    },
    {
      "cell_type": "markdown",
      "source": [
        "##7. How many rows are in the dataset?\n",
        "\n"
      ],
      "metadata": {
        "id": "JsVJmUKXPCTH"
      }
    },
    {
      "cell_type": "markdown",
      "source": [
        "252 rows"
      ],
      "metadata": {
        "id": "Sjd_5UALRx9w"
      }
    },
    {
      "cell_type": "markdown",
      "source": [
        "##8. What, if any, challenges do you foresee in cleaning, exploring, or modeling this dataset?\n",
        "\n"
      ],
      "metadata": {
        "id": "fTSMs8p7PD-D"
      }
    },
    {
      "cell_type": "markdown",
      "source": [
        "The challenges primarily lie on the modeling portion of this project. The data set is relatively very clean. Something strange is that all the columns are object datatypes despite the instances being primarily numeric which is convenient for regression. I will have to convert those datatypes from object to numeric. There is also so many features which is really nice. It will be fun to explore the datset and see what we cna find or visualise during the data exploration process. Something I am hoping to work on is my ability to better tune my models. I am hoping this project gives me a chance to do just that."
      ],
      "metadata": {
        "id": "uzRFG196SKlg"
      }
    },
    {
      "cell_type": "markdown",
      "source": [
        "#Second choice: Student Mental Health\n",
        "\n"
      ],
      "metadata": {
        "id": "m-Pl5LliQH47"
      }
    },
    {
      "cell_type": "code",
      "source": [
        "# load the dataset\n",
        "fpath1 = '/content/drive/MyDrive/CodingDojo/Project 2/Student Mental health.csv'\n",
        "df1 = pd.read_csv(fpath1, header=None)\n",
        "\n",
        "df1.info()\n",
        "df1.head()"
      ],
      "metadata": {
        "colab": {
          "base_uri": "https://localhost:8080/",
          "height": 660
        },
        "id": "-uRfSfwXViys",
        "outputId": "2b625af5-285c-4131-e65a-1d4a7854bc57"
      },
      "execution_count": 6,
      "outputs": [
        {
          "output_type": "stream",
          "name": "stdout",
          "text": [
            "<class 'pandas.core.frame.DataFrame'>\n",
            "RangeIndex: 102 entries, 0 to 101\n",
            "Data columns (total 11 columns):\n",
            " #   Column  Non-Null Count  Dtype \n",
            "---  ------  --------------  ----- \n",
            " 0   0       102 non-null    object\n",
            " 1   1       102 non-null    object\n",
            " 2   2       101 non-null    object\n",
            " 3   3       102 non-null    object\n",
            " 4   4       102 non-null    object\n",
            " 5   5       102 non-null    object\n",
            " 6   6       102 non-null    object\n",
            " 7   7       102 non-null    object\n",
            " 8   8       102 non-null    object\n",
            " 9   9       102 non-null    object\n",
            " 10  10      102 non-null    object\n",
            "dtypes: object(11)\n",
            "memory usage: 8.9+ KB\n"
          ]
        },
        {
          "output_type": "execute_result",
          "data": {
            "text/plain": [
              "               0                   1    2                     3   \\\n",
              "0       Timestamp  Choose your gender  Age  What is your course?   \n",
              "1  8/7/2020 12:02              Female   18           Engineering   \n",
              "2  8/7/2020 12:04                Male   21     Islamic education   \n",
              "3  8/7/2020 12:05                Male   19                   BIT   \n",
              "4  8/7/2020 12:06              Female   22                  Laws   \n",
              "\n",
              "                           4                   5               6   \\\n",
              "0  Your current year of Study  What is your CGPA?  Marital status   \n",
              "1                      year 1         3.00 - 3.49              No   \n",
              "2                      year 2         3.00 - 3.49              No   \n",
              "3                      Year 1         3.00 - 3.49              No   \n",
              "4                      year 3         3.00 - 3.49             Yes   \n",
              "\n",
              "                        7                     8                          9   \\\n",
              "0  Do you have Depression?  Do you have Anxiety?  Do you have Panic attack?   \n",
              "1                      Yes                    No                        Yes   \n",
              "2                       No                   Yes                         No   \n",
              "3                      Yes                   Yes                        Yes   \n",
              "4                      Yes                    No                         No   \n",
              "\n",
              "                                             10  \n",
              "0  Did you seek any specialist for a treatment?  \n",
              "1                                            No  \n",
              "2                                            No  \n",
              "3                                            No  \n",
              "4                                            No  "
            ],
            "text/html": [
              "\n",
              "\n",
              "  <div id=\"df-53992517-3ddc-45f7-92b1-48081ee7c603\">\n",
              "    <div class=\"colab-df-container\">\n",
              "      <div>\n",
              "<style scoped>\n",
              "    .dataframe tbody tr th:only-of-type {\n",
              "        vertical-align: middle;\n",
              "    }\n",
              "\n",
              "    .dataframe tbody tr th {\n",
              "        vertical-align: top;\n",
              "    }\n",
              "\n",
              "    .dataframe thead th {\n",
              "        text-align: right;\n",
              "    }\n",
              "</style>\n",
              "<table border=\"1\" class=\"dataframe\">\n",
              "  <thead>\n",
              "    <tr style=\"text-align: right;\">\n",
              "      <th></th>\n",
              "      <th>0</th>\n",
              "      <th>1</th>\n",
              "      <th>2</th>\n",
              "      <th>3</th>\n",
              "      <th>4</th>\n",
              "      <th>5</th>\n",
              "      <th>6</th>\n",
              "      <th>7</th>\n",
              "      <th>8</th>\n",
              "      <th>9</th>\n",
              "      <th>10</th>\n",
              "    </tr>\n",
              "  </thead>\n",
              "  <tbody>\n",
              "    <tr>\n",
              "      <th>0</th>\n",
              "      <td>Timestamp</td>\n",
              "      <td>Choose your gender</td>\n",
              "      <td>Age</td>\n",
              "      <td>What is your course?</td>\n",
              "      <td>Your current year of Study</td>\n",
              "      <td>What is your CGPA?</td>\n",
              "      <td>Marital status</td>\n",
              "      <td>Do you have Depression?</td>\n",
              "      <td>Do you have Anxiety?</td>\n",
              "      <td>Do you have Panic attack?</td>\n",
              "      <td>Did you seek any specialist for a treatment?</td>\n",
              "    </tr>\n",
              "    <tr>\n",
              "      <th>1</th>\n",
              "      <td>8/7/2020 12:02</td>\n",
              "      <td>Female</td>\n",
              "      <td>18</td>\n",
              "      <td>Engineering</td>\n",
              "      <td>year 1</td>\n",
              "      <td>3.00 - 3.49</td>\n",
              "      <td>No</td>\n",
              "      <td>Yes</td>\n",
              "      <td>No</td>\n",
              "      <td>Yes</td>\n",
              "      <td>No</td>\n",
              "    </tr>\n",
              "    <tr>\n",
              "      <th>2</th>\n",
              "      <td>8/7/2020 12:04</td>\n",
              "      <td>Male</td>\n",
              "      <td>21</td>\n",
              "      <td>Islamic education</td>\n",
              "      <td>year 2</td>\n",
              "      <td>3.00 - 3.49</td>\n",
              "      <td>No</td>\n",
              "      <td>No</td>\n",
              "      <td>Yes</td>\n",
              "      <td>No</td>\n",
              "      <td>No</td>\n",
              "    </tr>\n",
              "    <tr>\n",
              "      <th>3</th>\n",
              "      <td>8/7/2020 12:05</td>\n",
              "      <td>Male</td>\n",
              "      <td>19</td>\n",
              "      <td>BIT</td>\n",
              "      <td>Year 1</td>\n",
              "      <td>3.00 - 3.49</td>\n",
              "      <td>No</td>\n",
              "      <td>Yes</td>\n",
              "      <td>Yes</td>\n",
              "      <td>Yes</td>\n",
              "      <td>No</td>\n",
              "    </tr>\n",
              "    <tr>\n",
              "      <th>4</th>\n",
              "      <td>8/7/2020 12:06</td>\n",
              "      <td>Female</td>\n",
              "      <td>22</td>\n",
              "      <td>Laws</td>\n",
              "      <td>year 3</td>\n",
              "      <td>3.00 - 3.49</td>\n",
              "      <td>Yes</td>\n",
              "      <td>Yes</td>\n",
              "      <td>No</td>\n",
              "      <td>No</td>\n",
              "      <td>No</td>\n",
              "    </tr>\n",
              "  </tbody>\n",
              "</table>\n",
              "</div>\n",
              "      <button class=\"colab-df-convert\" onclick=\"convertToInteractive('df-53992517-3ddc-45f7-92b1-48081ee7c603')\"\n",
              "              title=\"Convert this dataframe to an interactive table.\"\n",
              "              style=\"display:none;\">\n",
              "\n",
              "  <svg xmlns=\"http://www.w3.org/2000/svg\" height=\"24px\"viewBox=\"0 0 24 24\"\n",
              "       width=\"24px\">\n",
              "    <path d=\"M0 0h24v24H0V0z\" fill=\"none\"/>\n",
              "    <path d=\"M18.56 5.44l.94 2.06.94-2.06 2.06-.94-2.06-.94-.94-2.06-.94 2.06-2.06.94zm-11 1L8.5 8.5l.94-2.06 2.06-.94-2.06-.94L8.5 2.5l-.94 2.06-2.06.94zm10 10l.94 2.06.94-2.06 2.06-.94-2.06-.94-.94-2.06-.94 2.06-2.06.94z\"/><path d=\"M17.41 7.96l-1.37-1.37c-.4-.4-.92-.59-1.43-.59-.52 0-1.04.2-1.43.59L10.3 9.45l-7.72 7.72c-.78.78-.78 2.05 0 2.83L4 21.41c.39.39.9.59 1.41.59.51 0 1.02-.2 1.41-.59l7.78-7.78 2.81-2.81c.8-.78.8-2.07 0-2.86zM5.41 20L4 18.59l7.72-7.72 1.47 1.35L5.41 20z\"/>\n",
              "  </svg>\n",
              "      </button>\n",
              "\n",
              "\n",
              "\n",
              "    <div id=\"df-81df2e69-a407-46fd-8898-f05a98386518\">\n",
              "      <button class=\"colab-df-quickchart\" onclick=\"quickchart('df-81df2e69-a407-46fd-8898-f05a98386518')\"\n",
              "              title=\"Suggest charts.\"\n",
              "              style=\"display:none;\">\n",
              "\n",
              "<svg xmlns=\"http://www.w3.org/2000/svg\" height=\"24px\"viewBox=\"0 0 24 24\"\n",
              "     width=\"24px\">\n",
              "    <g>\n",
              "        <path d=\"M19 3H5c-1.1 0-2 .9-2 2v14c0 1.1.9 2 2 2h14c1.1 0 2-.9 2-2V5c0-1.1-.9-2-2-2zM9 17H7v-7h2v7zm4 0h-2V7h2v10zm4 0h-2v-4h2v4z\"/>\n",
              "    </g>\n",
              "</svg>\n",
              "      </button>\n",
              "    </div>\n",
              "\n",
              "<style>\n",
              "  .colab-df-quickchart {\n",
              "    background-color: #E8F0FE;\n",
              "    border: none;\n",
              "    border-radius: 50%;\n",
              "    cursor: pointer;\n",
              "    display: none;\n",
              "    fill: #1967D2;\n",
              "    height: 32px;\n",
              "    padding: 0 0 0 0;\n",
              "    width: 32px;\n",
              "  }\n",
              "\n",
              "  .colab-df-quickchart:hover {\n",
              "    background-color: #E2EBFA;\n",
              "    box-shadow: 0px 1px 2px rgba(60, 64, 67, 0.3), 0px 1px 3px 1px rgba(60, 64, 67, 0.15);\n",
              "    fill: #174EA6;\n",
              "  }\n",
              "\n",
              "  [theme=dark] .colab-df-quickchart {\n",
              "    background-color: #3B4455;\n",
              "    fill: #D2E3FC;\n",
              "  }\n",
              "\n",
              "  [theme=dark] .colab-df-quickchart:hover {\n",
              "    background-color: #434B5C;\n",
              "    box-shadow: 0px 1px 3px 1px rgba(0, 0, 0, 0.15);\n",
              "    filter: drop-shadow(0px 1px 2px rgba(0, 0, 0, 0.3));\n",
              "    fill: #FFFFFF;\n",
              "  }\n",
              "</style>\n",
              "\n",
              "    <script>\n",
              "      async function quickchart(key) {\n",
              "        const containerElement = document.querySelector('#' + key);\n",
              "        const charts = await google.colab.kernel.invokeFunction(\n",
              "            'suggestCharts', [key], {});\n",
              "      }\n",
              "    </script>\n",
              "\n",
              "      <script>\n",
              "\n",
              "function displayQuickchartButton(domScope) {\n",
              "  let quickchartButtonEl =\n",
              "    domScope.querySelector('#df-81df2e69-a407-46fd-8898-f05a98386518 button.colab-df-quickchart');\n",
              "  quickchartButtonEl.style.display =\n",
              "    google.colab.kernel.accessAllowed ? 'block' : 'none';\n",
              "}\n",
              "\n",
              "        displayQuickchartButton(document);\n",
              "      </script>\n",
              "      <style>\n",
              "    .colab-df-container {\n",
              "      display:flex;\n",
              "      flex-wrap:wrap;\n",
              "      gap: 12px;\n",
              "    }\n",
              "\n",
              "    .colab-df-convert {\n",
              "      background-color: #E8F0FE;\n",
              "      border: none;\n",
              "      border-radius: 50%;\n",
              "      cursor: pointer;\n",
              "      display: none;\n",
              "      fill: #1967D2;\n",
              "      height: 32px;\n",
              "      padding: 0 0 0 0;\n",
              "      width: 32px;\n",
              "    }\n",
              "\n",
              "    .colab-df-convert:hover {\n",
              "      background-color: #E2EBFA;\n",
              "      box-shadow: 0px 1px 2px rgba(60, 64, 67, 0.3), 0px 1px 3px 1px rgba(60, 64, 67, 0.15);\n",
              "      fill: #174EA6;\n",
              "    }\n",
              "\n",
              "    [theme=dark] .colab-df-convert {\n",
              "      background-color: #3B4455;\n",
              "      fill: #D2E3FC;\n",
              "    }\n",
              "\n",
              "    [theme=dark] .colab-df-convert:hover {\n",
              "      background-color: #434B5C;\n",
              "      box-shadow: 0px 1px 3px 1px rgba(0, 0, 0, 0.15);\n",
              "      filter: drop-shadow(0px 1px 2px rgba(0, 0, 0, 0.3));\n",
              "      fill: #FFFFFF;\n",
              "    }\n",
              "  </style>\n",
              "\n",
              "      <script>\n",
              "        const buttonEl =\n",
              "          document.querySelector('#df-53992517-3ddc-45f7-92b1-48081ee7c603 button.colab-df-convert');\n",
              "        buttonEl.style.display =\n",
              "          google.colab.kernel.accessAllowed ? 'block' : 'none';\n",
              "\n",
              "        async function convertToInteractive(key) {\n",
              "          const element = document.querySelector('#df-53992517-3ddc-45f7-92b1-48081ee7c603');\n",
              "          const dataTable =\n",
              "            await google.colab.kernel.invokeFunction('convertToInteractive',\n",
              "                                                     [key], {});\n",
              "          if (!dataTable) return;\n",
              "\n",
              "          const docLinkHtml = 'Like what you see? Visit the ' +\n",
              "            '<a target=\"_blank\" href=https://colab.research.google.com/notebooks/data_table.ipynb>data table notebook</a>'\n",
              "            + ' to learn more about interactive tables.';\n",
              "          element.innerHTML = '';\n",
              "          dataTable['output_type'] = 'display_data';\n",
              "          await google.colab.output.renderOutput(dataTable, element);\n",
              "          const docLink = document.createElement('div');\n",
              "          docLink.innerHTML = docLinkHtml;\n",
              "          element.appendChild(docLink);\n",
              "        }\n",
              "      </script>\n",
              "    </div>\n",
              "  </div>\n"
            ]
          },
          "metadata": {},
          "execution_count": 6
        }
      ]
    },
    {
      "cell_type": "markdown",
      "source": [
        "## New Section"
      ],
      "metadata": {
        "id": "-ll7KzpkQUj9"
      }
    },
    {
      "cell_type": "markdown",
      "source": [
        "##1. Source of data\n"
      ],
      "metadata": {
        "id": "FknuN2R1WAd2"
      }
    },
    {
      "cell_type": "markdown",
      "source": [
        "Kaggle"
      ],
      "metadata": {
        "id": "NInYy6nuWXTR"
      }
    },
    {
      "cell_type": "markdown",
      "source": [
        "##2. Brief description of data\n",
        "\n"
      ],
      "metadata": {
        "id": "HdcGRRoVWFjX"
      }
    },
    {
      "cell_type": "markdown",
      "source": [
        "This statistical research focuses on investigating the potential effects of mental health on students' Cumulative Grade Point Average (CGPA). The dataset was gathered through a survey conducted using Google Forms, targeting university students. The primary objective of the survey was to gain insights into the students' current academic situation, along with exploring the various aspects of their mental health. By analyzing this dataset, researchers aim to understand any potential correlations between mental health indicators and academic performance, seeking to shed light on the impact of students' well-being on their CGPA. This study holds significance as it could provide valuable information to educators, institutions, and policymakers in designing interventions and support systems to foster both academic excellence and mental well-being among students.\n",
        "\n",
        "\n",
        "\n",
        "\n"
      ],
      "metadata": {
        "id": "28h-czTTWon3"
      }
    },
    {
      "cell_type": "markdown",
      "source": [
        "##3. What is the target?\n",
        "\n"
      ],
      "metadata": {
        "id": "ssqXBI_eWImi"
      }
    },
    {
      "cell_type": "markdown",
      "source": [
        "Do you have Depression"
      ],
      "metadata": {
        "id": "YcyuoRCoWsJ8"
      }
    },
    {
      "cell_type": "markdown",
      "source": [
        "##4. What does one row represent? (A person? A business? An event? A product?)\n",
        "\n"
      ],
      "metadata": {
        "id": "Q21AYLxYWKvg"
      }
    },
    {
      "cell_type": "markdown",
      "source": [
        "Student"
      ],
      "metadata": {
        "id": "R72kzZ13XSWS"
      }
    },
    {
      "cell_type": "markdown",
      "source": [
        "##5. Is this a classification or regression problem?\n",
        "\n"
      ],
      "metadata": {
        "id": "_EH_t1hTWMem"
      }
    },
    {
      "cell_type": "markdown",
      "source": [
        "Classification"
      ],
      "metadata": {
        "id": "FKbq6UjKXYPj"
      }
    },
    {
      "cell_type": "markdown",
      "source": [
        "##6. How many features does the data have?\n",
        "\n"
      ],
      "metadata": {
        "id": "8oNGlEuHWOjB"
      }
    },
    {
      "cell_type": "markdown",
      "source": [
        "9"
      ],
      "metadata": {
        "id": "r4EX77_eXanT"
      }
    },
    {
      "cell_type": "markdown",
      "source": [
        "##7. How many rows are in the dataset?\n",
        "\n"
      ],
      "metadata": {
        "id": "nDtdpc6VWQXQ"
      }
    },
    {
      "cell_type": "markdown",
      "source": [
        "102 rows"
      ],
      "metadata": {
        "id": "4-VHxHRRXvEY"
      }
    },
    {
      "cell_type": "markdown",
      "source": [
        "##8. What, if any, challenges do you foresee in cleaning, exploring, or modeling this dataset?\n",
        "\n"
      ],
      "metadata": {
        "id": "0KdVduUBWSJ8"
      }
    },
    {
      "cell_type": "markdown",
      "source": [
        "There are a couple challenges I foresee with this dataset. Firstly the column names are all very long and complicated and must be changed to something simpler. Next is that someobject datatypes shouldbe converted to numeric. The biggest challenge I foresee lies in the \"What is your CGPA?\". The values within this column are in a range. An example of an entry is \"3.00 - 3.49\". Figuring how to use this is going to be interesting. Overall very excited about this dataset."
      ],
      "metadata": {
        "id": "wjYnBgwAXxq6"
      }
    }
  ]
}