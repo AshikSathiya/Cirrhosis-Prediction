{
  "nbformat": 4,
  "nbformat_minor": 0,
  "metadata": {
    "colab": {
      "provenance": [],
      "authorship_tag": "ABX9TyM+EjktpvGHN7WY1V5T6yiG",
      "include_colab_link": true
    },
    "kernelspec": {
      "name": "python3",
      "display_name": "Python 3"
    },
    "language_info": {
      "name": "python"
    }
  },
  "cells": [
    {
      "cell_type": "markdown",
      "metadata": {
        "id": "view-in-github",
        "colab_type": "text"
      },
      "source": [
        "<a href=\"https://colab.research.google.com/github/AshikSathiya/Project2/blob/main/Project_2.ipynb\" target=\"_parent\"><img src=\"https://colab.research.google.com/assets/colab-badge.svg\" alt=\"Open In Colab\"/></a>"
      ]
    },
    {
      "cell_type": "markdown",
      "source": [
        "#Project 2\n",
        "\n",
        "---\n",
        "\n"
      ],
      "metadata": {
        "id": "YNKHvzSFL0JY"
      }
    },
    {
      "cell_type": "code",
      "source": [
        "import matplotlib.pyplot as plt\n",
        "import seaborn as sns\n",
        "import pandas as pd\n",
        "import numpy as np"
      ],
      "metadata": {
        "id": "tLlrtiZ2T0Tc"
      },
      "execution_count": 1,
      "outputs": []
    },
    {
      "cell_type": "code",
      "source": [
        "from google.colab import drive\n",
        "drive.mount('/content/drive')"
      ],
      "metadata": {
        "colab": {
          "base_uri": "https://localhost:8080/"
        },
        "id": "ugwBZe5pTQ3v",
        "outputId": "79118aec-108e-44cc-e76b-c0dd5aa3ce8d"
      },
      "execution_count": 2,
      "outputs": [
        {
          "output_type": "stream",
          "name": "stdout",
          "text": [
            "Mounted at /content/drive\n"
          ]
        }
      ]
    },
    {
      "cell_type": "markdown",
      "source": [
        "#First choice: Body Fat Prediction Dataset\n"
      ],
      "metadata": {
        "id": "IBQE2aEHL4VY"
      }
    },
    {
      "cell_type": "code",
      "source": [
        "# load the dataset\n",
        "fpath = '/content/drive/MyDrive/CodingDojo/Project 2/cirrhosis.csv'\n",
        "df = pd.read_csv(fpath, header=None)\n",
        "\n",
        "df.info()\n",
        "df.head()"
      ],
      "metadata": {
        "colab": {
          "base_uri": "https://localhost:8080/",
          "height": 825
        },
        "id": "23LZo_DETbsZ",
        "outputId": "ea930791-d522-4631-8926-38e6f6ce214d"
      },
      "execution_count": 3,
      "outputs": [
        {
          "output_type": "stream",
          "name": "stdout",
          "text": [
            "<class 'pandas.core.frame.DataFrame'>\n",
            "RangeIndex: 419 entries, 0 to 418\n",
            "Data columns (total 20 columns):\n",
            " #   Column  Non-Null Count  Dtype \n",
            "---  ------  --------------  ----- \n",
            " 0   0       419 non-null    object\n",
            " 1   1       419 non-null    object\n",
            " 2   2       419 non-null    object\n",
            " 3   3       313 non-null    object\n",
            " 4   4       419 non-null    object\n",
            " 5   5       419 non-null    object\n",
            " 6   6       313 non-null    object\n",
            " 7   7       313 non-null    object\n",
            " 8   8       313 non-null    object\n",
            " 9   9       419 non-null    object\n",
            " 10  10      419 non-null    object\n",
            " 11  11      285 non-null    object\n",
            " 12  12      419 non-null    object\n",
            " 13  13      311 non-null    object\n",
            " 14  14      313 non-null    object\n",
            " 15  15      313 non-null    object\n",
            " 16  16      283 non-null    object\n",
            " 17  17      408 non-null    object\n",
            " 18  18      417 non-null    object\n",
            " 19  19      413 non-null    object\n",
            "dtypes: object(20)\n",
            "memory usage: 65.6+ KB\n"
          ]
        },
        {
          "output_type": "execute_result",
          "data": {
            "text/plain": [
              "   0       1       2                3      4    5        6             7   \\\n",
              "0  ID  N_Days  Status             Drug    Age  Sex  Ascites  Hepatomegaly   \n",
              "1   1     400       D  D-penicillamine  21464    F        Y             Y   \n",
              "2   2    4500       C  D-penicillamine  20617    F        N             Y   \n",
              "3   3    1012       D  D-penicillamine  25594    M        N             N   \n",
              "4   4    1925       D  D-penicillamine  19994    F        N             Y   \n",
              "\n",
              "        8      9          10           11       12      13        14      15  \\\n",
              "0  Spiders  Edema  Bilirubin  Cholesterol  Albumin  Copper  Alk_Phos    SGOT   \n",
              "1        Y      Y       14.5          261      2.6     156      1718  137.95   \n",
              "2        Y      N        1.1          302     4.14      54    7394.8  113.52   \n",
              "3        N      S        1.4          176     3.48     210       516    96.1   \n",
              "4        Y      S        1.8          244     2.54      64    6121.8   60.63   \n",
              "\n",
              "              16         17           18     19  \n",
              "0  Tryglicerides  Platelets  Prothrombin  Stage  \n",
              "1            172        190         12.2      4  \n",
              "2             88        221         10.6      3  \n",
              "3             55        151           12      4  \n",
              "4             92        183         10.3      4  "
            ],
            "text/html": [
              "\n",
              "\n",
              "  <div id=\"df-f38f8d04-300d-438f-8515-fc41242b4ca0\">\n",
              "    <div class=\"colab-df-container\">\n",
              "      <div>\n",
              "<style scoped>\n",
              "    .dataframe tbody tr th:only-of-type {\n",
              "        vertical-align: middle;\n",
              "    }\n",
              "\n",
              "    .dataframe tbody tr th {\n",
              "        vertical-align: top;\n",
              "    }\n",
              "\n",
              "    .dataframe thead th {\n",
              "        text-align: right;\n",
              "    }\n",
              "</style>\n",
              "<table border=\"1\" class=\"dataframe\">\n",
              "  <thead>\n",
              "    <tr style=\"text-align: right;\">\n",
              "      <th></th>\n",
              "      <th>0</th>\n",
              "      <th>1</th>\n",
              "      <th>2</th>\n",
              "      <th>3</th>\n",
              "      <th>4</th>\n",
              "      <th>5</th>\n",
              "      <th>6</th>\n",
              "      <th>7</th>\n",
              "      <th>8</th>\n",
              "      <th>9</th>\n",
              "      <th>10</th>\n",
              "      <th>11</th>\n",
              "      <th>12</th>\n",
              "      <th>13</th>\n",
              "      <th>14</th>\n",
              "      <th>15</th>\n",
              "      <th>16</th>\n",
              "      <th>17</th>\n",
              "      <th>18</th>\n",
              "      <th>19</th>\n",
              "    </tr>\n",
              "  </thead>\n",
              "  <tbody>\n",
              "    <tr>\n",
              "      <th>0</th>\n",
              "      <td>ID</td>\n",
              "      <td>N_Days</td>\n",
              "      <td>Status</td>\n",
              "      <td>Drug</td>\n",
              "      <td>Age</td>\n",
              "      <td>Sex</td>\n",
              "      <td>Ascites</td>\n",
              "      <td>Hepatomegaly</td>\n",
              "      <td>Spiders</td>\n",
              "      <td>Edema</td>\n",
              "      <td>Bilirubin</td>\n",
              "      <td>Cholesterol</td>\n",
              "      <td>Albumin</td>\n",
              "      <td>Copper</td>\n",
              "      <td>Alk_Phos</td>\n",
              "      <td>SGOT</td>\n",
              "      <td>Tryglicerides</td>\n",
              "      <td>Platelets</td>\n",
              "      <td>Prothrombin</td>\n",
              "      <td>Stage</td>\n",
              "    </tr>\n",
              "    <tr>\n",
              "      <th>1</th>\n",
              "      <td>1</td>\n",
              "      <td>400</td>\n",
              "      <td>D</td>\n",
              "      <td>D-penicillamine</td>\n",
              "      <td>21464</td>\n",
              "      <td>F</td>\n",
              "      <td>Y</td>\n",
              "      <td>Y</td>\n",
              "      <td>Y</td>\n",
              "      <td>Y</td>\n",
              "      <td>14.5</td>\n",
              "      <td>261</td>\n",
              "      <td>2.6</td>\n",
              "      <td>156</td>\n",
              "      <td>1718</td>\n",
              "      <td>137.95</td>\n",
              "      <td>172</td>\n",
              "      <td>190</td>\n",
              "      <td>12.2</td>\n",
              "      <td>4</td>\n",
              "    </tr>\n",
              "    <tr>\n",
              "      <th>2</th>\n",
              "      <td>2</td>\n",
              "      <td>4500</td>\n",
              "      <td>C</td>\n",
              "      <td>D-penicillamine</td>\n",
              "      <td>20617</td>\n",
              "      <td>F</td>\n",
              "      <td>N</td>\n",
              "      <td>Y</td>\n",
              "      <td>Y</td>\n",
              "      <td>N</td>\n",
              "      <td>1.1</td>\n",
              "      <td>302</td>\n",
              "      <td>4.14</td>\n",
              "      <td>54</td>\n",
              "      <td>7394.8</td>\n",
              "      <td>113.52</td>\n",
              "      <td>88</td>\n",
              "      <td>221</td>\n",
              "      <td>10.6</td>\n",
              "      <td>3</td>\n",
              "    </tr>\n",
              "    <tr>\n",
              "      <th>3</th>\n",
              "      <td>3</td>\n",
              "      <td>1012</td>\n",
              "      <td>D</td>\n",
              "      <td>D-penicillamine</td>\n",
              "      <td>25594</td>\n",
              "      <td>M</td>\n",
              "      <td>N</td>\n",
              "      <td>N</td>\n",
              "      <td>N</td>\n",
              "      <td>S</td>\n",
              "      <td>1.4</td>\n",
              "      <td>176</td>\n",
              "      <td>3.48</td>\n",
              "      <td>210</td>\n",
              "      <td>516</td>\n",
              "      <td>96.1</td>\n",
              "      <td>55</td>\n",
              "      <td>151</td>\n",
              "      <td>12</td>\n",
              "      <td>4</td>\n",
              "    </tr>\n",
              "    <tr>\n",
              "      <th>4</th>\n",
              "      <td>4</td>\n",
              "      <td>1925</td>\n",
              "      <td>D</td>\n",
              "      <td>D-penicillamine</td>\n",
              "      <td>19994</td>\n",
              "      <td>F</td>\n",
              "      <td>N</td>\n",
              "      <td>Y</td>\n",
              "      <td>Y</td>\n",
              "      <td>S</td>\n",
              "      <td>1.8</td>\n",
              "      <td>244</td>\n",
              "      <td>2.54</td>\n",
              "      <td>64</td>\n",
              "      <td>6121.8</td>\n",
              "      <td>60.63</td>\n",
              "      <td>92</td>\n",
              "      <td>183</td>\n",
              "      <td>10.3</td>\n",
              "      <td>4</td>\n",
              "    </tr>\n",
              "  </tbody>\n",
              "</table>\n",
              "</div>\n",
              "      <button class=\"colab-df-convert\" onclick=\"convertToInteractive('df-f38f8d04-300d-438f-8515-fc41242b4ca0')\"\n",
              "              title=\"Convert this dataframe to an interactive table.\"\n",
              "              style=\"display:none;\">\n",
              "\n",
              "  <svg xmlns=\"http://www.w3.org/2000/svg\" height=\"24px\"viewBox=\"0 0 24 24\"\n",
              "       width=\"24px\">\n",
              "    <path d=\"M0 0h24v24H0V0z\" fill=\"none\"/>\n",
              "    <path d=\"M18.56 5.44l.94 2.06.94-2.06 2.06-.94-2.06-.94-.94-2.06-.94 2.06-2.06.94zm-11 1L8.5 8.5l.94-2.06 2.06-.94-2.06-.94L8.5 2.5l-.94 2.06-2.06.94zm10 10l.94 2.06.94-2.06 2.06-.94-2.06-.94-.94-2.06-.94 2.06-2.06.94z\"/><path d=\"M17.41 7.96l-1.37-1.37c-.4-.4-.92-.59-1.43-.59-.52 0-1.04.2-1.43.59L10.3 9.45l-7.72 7.72c-.78.78-.78 2.05 0 2.83L4 21.41c.39.39.9.59 1.41.59.51 0 1.02-.2 1.41-.59l7.78-7.78 2.81-2.81c.8-.78.8-2.07 0-2.86zM5.41 20L4 18.59l7.72-7.72 1.47 1.35L5.41 20z\"/>\n",
              "  </svg>\n",
              "      </button>\n",
              "\n",
              "\n",
              "\n",
              "    <div id=\"df-74b47ef0-d3a1-48b2-bf3a-7914ef22606d\">\n",
              "      <button class=\"colab-df-quickchart\" onclick=\"quickchart('df-74b47ef0-d3a1-48b2-bf3a-7914ef22606d')\"\n",
              "              title=\"Suggest charts.\"\n",
              "              style=\"display:none;\">\n",
              "\n",
              "<svg xmlns=\"http://www.w3.org/2000/svg\" height=\"24px\"viewBox=\"0 0 24 24\"\n",
              "     width=\"24px\">\n",
              "    <g>\n",
              "        <path d=\"M19 3H5c-1.1 0-2 .9-2 2v14c0 1.1.9 2 2 2h14c1.1 0 2-.9 2-2V5c0-1.1-.9-2-2-2zM9 17H7v-7h2v7zm4 0h-2V7h2v10zm4 0h-2v-4h2v4z\"/>\n",
              "    </g>\n",
              "</svg>\n",
              "      </button>\n",
              "    </div>\n",
              "\n",
              "<style>\n",
              "  .colab-df-quickchart {\n",
              "    background-color: #E8F0FE;\n",
              "    border: none;\n",
              "    border-radius: 50%;\n",
              "    cursor: pointer;\n",
              "    display: none;\n",
              "    fill: #1967D2;\n",
              "    height: 32px;\n",
              "    padding: 0 0 0 0;\n",
              "    width: 32px;\n",
              "  }\n",
              "\n",
              "  .colab-df-quickchart:hover {\n",
              "    background-color: #E2EBFA;\n",
              "    box-shadow: 0px 1px 2px rgba(60, 64, 67, 0.3), 0px 1px 3px 1px rgba(60, 64, 67, 0.15);\n",
              "    fill: #174EA6;\n",
              "  }\n",
              "\n",
              "  [theme=dark] .colab-df-quickchart {\n",
              "    background-color: #3B4455;\n",
              "    fill: #D2E3FC;\n",
              "  }\n",
              "\n",
              "  [theme=dark] .colab-df-quickchart:hover {\n",
              "    background-color: #434B5C;\n",
              "    box-shadow: 0px 1px 3px 1px rgba(0, 0, 0, 0.15);\n",
              "    filter: drop-shadow(0px 1px 2px rgba(0, 0, 0, 0.3));\n",
              "    fill: #FFFFFF;\n",
              "  }\n",
              "</style>\n",
              "\n",
              "    <script>\n",
              "      async function quickchart(key) {\n",
              "        const containerElement = document.querySelector('#' + key);\n",
              "        const charts = await google.colab.kernel.invokeFunction(\n",
              "            'suggestCharts', [key], {});\n",
              "      }\n",
              "    </script>\n",
              "\n",
              "      <script>\n",
              "\n",
              "function displayQuickchartButton(domScope) {\n",
              "  let quickchartButtonEl =\n",
              "    domScope.querySelector('#df-74b47ef0-d3a1-48b2-bf3a-7914ef22606d button.colab-df-quickchart');\n",
              "  quickchartButtonEl.style.display =\n",
              "    google.colab.kernel.accessAllowed ? 'block' : 'none';\n",
              "}\n",
              "\n",
              "        displayQuickchartButton(document);\n",
              "      </script>\n",
              "      <style>\n",
              "    .colab-df-container {\n",
              "      display:flex;\n",
              "      flex-wrap:wrap;\n",
              "      gap: 12px;\n",
              "    }\n",
              "\n",
              "    .colab-df-convert {\n",
              "      background-color: #E8F0FE;\n",
              "      border: none;\n",
              "      border-radius: 50%;\n",
              "      cursor: pointer;\n",
              "      display: none;\n",
              "      fill: #1967D2;\n",
              "      height: 32px;\n",
              "      padding: 0 0 0 0;\n",
              "      width: 32px;\n",
              "    }\n",
              "\n",
              "    .colab-df-convert:hover {\n",
              "      background-color: #E2EBFA;\n",
              "      box-shadow: 0px 1px 2px rgba(60, 64, 67, 0.3), 0px 1px 3px 1px rgba(60, 64, 67, 0.15);\n",
              "      fill: #174EA6;\n",
              "    }\n",
              "\n",
              "    [theme=dark] .colab-df-convert {\n",
              "      background-color: #3B4455;\n",
              "      fill: #D2E3FC;\n",
              "    }\n",
              "\n",
              "    [theme=dark] .colab-df-convert:hover {\n",
              "      background-color: #434B5C;\n",
              "      box-shadow: 0px 1px 3px 1px rgba(0, 0, 0, 0.15);\n",
              "      filter: drop-shadow(0px 1px 2px rgba(0, 0, 0, 0.3));\n",
              "      fill: #FFFFFF;\n",
              "    }\n",
              "  </style>\n",
              "\n",
              "      <script>\n",
              "        const buttonEl =\n",
              "          document.querySelector('#df-f38f8d04-300d-438f-8515-fc41242b4ca0 button.colab-df-convert');\n",
              "        buttonEl.style.display =\n",
              "          google.colab.kernel.accessAllowed ? 'block' : 'none';\n",
              "\n",
              "        async function convertToInteractive(key) {\n",
              "          const element = document.querySelector('#df-f38f8d04-300d-438f-8515-fc41242b4ca0');\n",
              "          const dataTable =\n",
              "            await google.colab.kernel.invokeFunction('convertToInteractive',\n",
              "                                                     [key], {});\n",
              "          if (!dataTable) return;\n",
              "\n",
              "          const docLinkHtml = 'Like what you see? Visit the ' +\n",
              "            '<a target=\"_blank\" href=https://colab.research.google.com/notebooks/data_table.ipynb>data table notebook</a>'\n",
              "            + ' to learn more about interactive tables.';\n",
              "          element.innerHTML = '';\n",
              "          dataTable['output_type'] = 'display_data';\n",
              "          await google.colab.output.renderOutput(dataTable, element);\n",
              "          const docLink = document.createElement('div');\n",
              "          docLink.innerHTML = docLinkHtml;\n",
              "          element.appendChild(docLink);\n",
              "        }\n",
              "      </script>\n",
              "    </div>\n",
              "  </div>\n"
            ]
          },
          "metadata": {},
          "execution_count": 3
        }
      ]
    },
    {
      "cell_type": "markdown",
      "source": [
        "##1. Source of data\n"
      ],
      "metadata": {
        "id": "UuLQhPgcNt3C"
      }
    },
    {
      "cell_type": "markdown",
      "source": [
        "This dataset comes from Kaggle"
      ],
      "metadata": {
        "id": "Ov9u1NKeQspe"
      }
    },
    {
      "cell_type": "markdown",
      "source": [
        "##2. Brief description of data\n",
        "\n"
      ],
      "metadata": {
        "id": "vOxIMfnyNv55"
      }
    },
    {
      "cell_type": "markdown",
      "source": [
        "Cirrhosis is an advanced liver condition caused by various liver diseases, including hepatitis and chronic alcoholism. A Mayo Clinic trial focused on primary biliary cirrhosis (PBC) collected data from 424 patients referred to the clinic over ten years. Among them, 312 patients took part in a randomized drug trial, while the remaining 112 patients consented to basic measurements and survival monitoring. However, six of the latter group were lost to follow-up, leaving data on 106 non-participating cases and the 312 participants in the randomized trial. For more details, refer to Fleming and Harrington's book and articles by Dickson et al. and Markus et al. published in 1989.\n",
        "\n",
        "\n",
        "\n",
        "\n",
        "\n",
        "\n",
        "\n",
        "\n"
      ],
      "metadata": {
        "id": "MpbIJG91Qwx8"
      }
    },
    {
      "cell_type": "markdown",
      "source": [
        "##3. What is the target?\n",
        "\n"
      ],
      "metadata": {
        "id": "FMVLPfcUN1UO"
      }
    },
    {
      "cell_type": "markdown",
      "source": [
        "Status: status of the patient C (censored), CL (censored due to liver tx), or D (death)"
      ],
      "metadata": {
        "id": "9iMvMq27Q86v"
      }
    },
    {
      "cell_type": "markdown",
      "source": [
        "##4. What does one row represent? (A person? A business? An event? A product?)\n",
        "\n"
      ],
      "metadata": {
        "id": "aTaCmeNgN316"
      }
    },
    {
      "cell_type": "markdown",
      "source": [
        "One row in the dataset represents a single individual patient who participated in the drug trial"
      ],
      "metadata": {
        "id": "kOXuAp5JRMO2"
      }
    },
    {
      "cell_type": "markdown",
      "source": [
        "##5. Is this a classification or regression problem?\n",
        "\n"
      ],
      "metadata": {
        "id": "IF9Onsn3O-fr"
      }
    },
    {
      "cell_type": "markdown",
      "source": [
        "This is a classification problem"
      ],
      "metadata": {
        "id": "W2BvkdFPRZCN"
      }
    },
    {
      "cell_type": "markdown",
      "source": [
        "##6. How many features does the data have?\n",
        "\n"
      ],
      "metadata": {
        "id": "G_wE9ueqPAph"
      }
    },
    {
      "cell_type": "markdown",
      "source": [
        "19 features"
      ],
      "metadata": {
        "id": "2C2iEnBiRlJU"
      }
    },
    {
      "cell_type": "markdown",
      "source": [
        "##7. How many rows are in the dataset?\n",
        "\n"
      ],
      "metadata": {
        "id": "JsVJmUKXPCTH"
      }
    },
    {
      "cell_type": "markdown",
      "source": [
        "419 rows"
      ],
      "metadata": {
        "id": "Sjd_5UALRx9w"
      }
    },
    {
      "cell_type": "markdown",
      "source": [
        "##8. What, if any, challenges do you foresee in cleaning, exploring, or modeling this dataset?\n",
        "\n"
      ],
      "metadata": {
        "id": "fTSMs8p7PD-D"
      }
    },
    {
      "cell_type": "markdown",
      "source": [
        "Missing Data: Addressing missing values appropriately.\n",
        "\n",
        "Categorical Variables: Converting categorical attributes into suitable formats.\n",
        "\n",
        "Imbalanced Classes: Handling imbalanced outcomes in \"Status\"\n",
        "\n",
        "Outliers: Identifying and managing outliers in the data.\n",
        "\n",
        "Feature Selection: Selecting relevant attributes for modeling.\n",
        "\n",
        "Data Normalization/Scaling: Normalizing or scaling numerical data for fair comparisons.\n",
        "\n",
        "Overfitting: Preventing overfitting by using proper validation and regularization.\n"
      ],
      "metadata": {
        "id": "uzRFG196SKlg"
      }
    },
    {
      "cell_type": "markdown",
      "source": [
        "#Second choice: Student Mental Health\n",
        "\n"
      ],
      "metadata": {
        "id": "m-Pl5LliQH47"
      }
    },
    {
      "cell_type": "code",
      "source": [
        "# load the dataset\n",
        "fpath1 = '/content/drive/MyDrive/CodingDojo/Project 2/wines_SPA.csv'\n",
        "df1 = pd.read_csv(fpath1, header=None)\n",
        "\n",
        "df1.info()\n",
        "df1.head()"
      ],
      "metadata": {
        "colab": {
          "base_uri": "https://localhost:8080/",
          "height": 529
        },
        "id": "-uRfSfwXViys",
        "outputId": "e855d2fd-b7f4-4d14-8625-66da2d7124ba"
      },
      "execution_count": 4,
      "outputs": [
        {
          "output_type": "stream",
          "name": "stdout",
          "text": [
            "<class 'pandas.core.frame.DataFrame'>\n",
            "RangeIndex: 7501 entries, 0 to 7500\n",
            "Data columns (total 11 columns):\n",
            " #   Column  Non-Null Count  Dtype \n",
            "---  ------  --------------  ----- \n",
            " 0   0       7501 non-null   object\n",
            " 1   1       7501 non-null   object\n",
            " 2   2       7499 non-null   object\n",
            " 3   3       7501 non-null   object\n",
            " 4   4       7501 non-null   object\n",
            " 5   5       7501 non-null   object\n",
            " 6   6       7501 non-null   object\n",
            " 7   7       7501 non-null   object\n",
            " 8   8       6956 non-null   object\n",
            " 9   9       6332 non-null   object\n",
            " 10  10      6332 non-null   object\n",
            "dtypes: object(11)\n",
            "memory usage: 644.7+ KB\n"
          ]
        },
        {
          "output_type": "execute_result",
          "data": {
            "text/plain": [
              "              0              1     2       3            4        5   \\\n",
              "0         winery           wine  year  rating  num_reviews  country   \n",
              "1  Teso La Monja          Tinto  2013     4.9           58   Espana   \n",
              "2         Artadi  Vina El Pison  2018     4.9           31   Espana   \n",
              "3   Vega Sicilia          Unico  2009     4.8         1793   Espana   \n",
              "4   Vega Sicilia          Unico  1999     4.8         1705   Espana   \n",
              "\n",
              "                 6       7                     8     9        10  \n",
              "0            region   price                  type  body  acidity  \n",
              "1              Toro     995              Toro Red     5        3  \n",
              "2    Vino de Espana   313.5           Tempranillo     4        2  \n",
              "3  Ribera del Duero  324.95  Ribera Del Duero Red     5        3  \n",
              "4  Ribera del Duero  692.96  Ribera Del Duero Red     5        3  "
            ],
            "text/html": [
              "\n",
              "\n",
              "  <div id=\"df-9aaf0efd-0ddf-44c6-a67f-0120e315a5b4\">\n",
              "    <div class=\"colab-df-container\">\n",
              "      <div>\n",
              "<style scoped>\n",
              "    .dataframe tbody tr th:only-of-type {\n",
              "        vertical-align: middle;\n",
              "    }\n",
              "\n",
              "    .dataframe tbody tr th {\n",
              "        vertical-align: top;\n",
              "    }\n",
              "\n",
              "    .dataframe thead th {\n",
              "        text-align: right;\n",
              "    }\n",
              "</style>\n",
              "<table border=\"1\" class=\"dataframe\">\n",
              "  <thead>\n",
              "    <tr style=\"text-align: right;\">\n",
              "      <th></th>\n",
              "      <th>0</th>\n",
              "      <th>1</th>\n",
              "      <th>2</th>\n",
              "      <th>3</th>\n",
              "      <th>4</th>\n",
              "      <th>5</th>\n",
              "      <th>6</th>\n",
              "      <th>7</th>\n",
              "      <th>8</th>\n",
              "      <th>9</th>\n",
              "      <th>10</th>\n",
              "    </tr>\n",
              "  </thead>\n",
              "  <tbody>\n",
              "    <tr>\n",
              "      <th>0</th>\n",
              "      <td>winery</td>\n",
              "      <td>wine</td>\n",
              "      <td>year</td>\n",
              "      <td>rating</td>\n",
              "      <td>num_reviews</td>\n",
              "      <td>country</td>\n",
              "      <td>region</td>\n",
              "      <td>price</td>\n",
              "      <td>type</td>\n",
              "      <td>body</td>\n",
              "      <td>acidity</td>\n",
              "    </tr>\n",
              "    <tr>\n",
              "      <th>1</th>\n",
              "      <td>Teso La Monja</td>\n",
              "      <td>Tinto</td>\n",
              "      <td>2013</td>\n",
              "      <td>4.9</td>\n",
              "      <td>58</td>\n",
              "      <td>Espana</td>\n",
              "      <td>Toro</td>\n",
              "      <td>995</td>\n",
              "      <td>Toro Red</td>\n",
              "      <td>5</td>\n",
              "      <td>3</td>\n",
              "    </tr>\n",
              "    <tr>\n",
              "      <th>2</th>\n",
              "      <td>Artadi</td>\n",
              "      <td>Vina El Pison</td>\n",
              "      <td>2018</td>\n",
              "      <td>4.9</td>\n",
              "      <td>31</td>\n",
              "      <td>Espana</td>\n",
              "      <td>Vino de Espana</td>\n",
              "      <td>313.5</td>\n",
              "      <td>Tempranillo</td>\n",
              "      <td>4</td>\n",
              "      <td>2</td>\n",
              "    </tr>\n",
              "    <tr>\n",
              "      <th>3</th>\n",
              "      <td>Vega Sicilia</td>\n",
              "      <td>Unico</td>\n",
              "      <td>2009</td>\n",
              "      <td>4.8</td>\n",
              "      <td>1793</td>\n",
              "      <td>Espana</td>\n",
              "      <td>Ribera del Duero</td>\n",
              "      <td>324.95</td>\n",
              "      <td>Ribera Del Duero Red</td>\n",
              "      <td>5</td>\n",
              "      <td>3</td>\n",
              "    </tr>\n",
              "    <tr>\n",
              "      <th>4</th>\n",
              "      <td>Vega Sicilia</td>\n",
              "      <td>Unico</td>\n",
              "      <td>1999</td>\n",
              "      <td>4.8</td>\n",
              "      <td>1705</td>\n",
              "      <td>Espana</td>\n",
              "      <td>Ribera del Duero</td>\n",
              "      <td>692.96</td>\n",
              "      <td>Ribera Del Duero Red</td>\n",
              "      <td>5</td>\n",
              "      <td>3</td>\n",
              "    </tr>\n",
              "  </tbody>\n",
              "</table>\n",
              "</div>\n",
              "      <button class=\"colab-df-convert\" onclick=\"convertToInteractive('df-9aaf0efd-0ddf-44c6-a67f-0120e315a5b4')\"\n",
              "              title=\"Convert this dataframe to an interactive table.\"\n",
              "              style=\"display:none;\">\n",
              "\n",
              "  <svg xmlns=\"http://www.w3.org/2000/svg\" height=\"24px\"viewBox=\"0 0 24 24\"\n",
              "       width=\"24px\">\n",
              "    <path d=\"M0 0h24v24H0V0z\" fill=\"none\"/>\n",
              "    <path d=\"M18.56 5.44l.94 2.06.94-2.06 2.06-.94-2.06-.94-.94-2.06-.94 2.06-2.06.94zm-11 1L8.5 8.5l.94-2.06 2.06-.94-2.06-.94L8.5 2.5l-.94 2.06-2.06.94zm10 10l.94 2.06.94-2.06 2.06-.94-2.06-.94-.94-2.06-.94 2.06-2.06.94z\"/><path d=\"M17.41 7.96l-1.37-1.37c-.4-.4-.92-.59-1.43-.59-.52 0-1.04.2-1.43.59L10.3 9.45l-7.72 7.72c-.78.78-.78 2.05 0 2.83L4 21.41c.39.39.9.59 1.41.59.51 0 1.02-.2 1.41-.59l7.78-7.78 2.81-2.81c.8-.78.8-2.07 0-2.86zM5.41 20L4 18.59l7.72-7.72 1.47 1.35L5.41 20z\"/>\n",
              "  </svg>\n",
              "      </button>\n",
              "\n",
              "\n",
              "\n",
              "    <div id=\"df-4f3a3c47-5aa8-4efe-bbbf-2ee0caa10ab2\">\n",
              "      <button class=\"colab-df-quickchart\" onclick=\"quickchart('df-4f3a3c47-5aa8-4efe-bbbf-2ee0caa10ab2')\"\n",
              "              title=\"Suggest charts.\"\n",
              "              style=\"display:none;\">\n",
              "\n",
              "<svg xmlns=\"http://www.w3.org/2000/svg\" height=\"24px\"viewBox=\"0 0 24 24\"\n",
              "     width=\"24px\">\n",
              "    <g>\n",
              "        <path d=\"M19 3H5c-1.1 0-2 .9-2 2v14c0 1.1.9 2 2 2h14c1.1 0 2-.9 2-2V5c0-1.1-.9-2-2-2zM9 17H7v-7h2v7zm4 0h-2V7h2v10zm4 0h-2v-4h2v4z\"/>\n",
              "    </g>\n",
              "</svg>\n",
              "      </button>\n",
              "    </div>\n",
              "\n",
              "<style>\n",
              "  .colab-df-quickchart {\n",
              "    background-color: #E8F0FE;\n",
              "    border: none;\n",
              "    border-radius: 50%;\n",
              "    cursor: pointer;\n",
              "    display: none;\n",
              "    fill: #1967D2;\n",
              "    height: 32px;\n",
              "    padding: 0 0 0 0;\n",
              "    width: 32px;\n",
              "  }\n",
              "\n",
              "  .colab-df-quickchart:hover {\n",
              "    background-color: #E2EBFA;\n",
              "    box-shadow: 0px 1px 2px rgba(60, 64, 67, 0.3), 0px 1px 3px 1px rgba(60, 64, 67, 0.15);\n",
              "    fill: #174EA6;\n",
              "  }\n",
              "\n",
              "  [theme=dark] .colab-df-quickchart {\n",
              "    background-color: #3B4455;\n",
              "    fill: #D2E3FC;\n",
              "  }\n",
              "\n",
              "  [theme=dark] .colab-df-quickchart:hover {\n",
              "    background-color: #434B5C;\n",
              "    box-shadow: 0px 1px 3px 1px rgba(0, 0, 0, 0.15);\n",
              "    filter: drop-shadow(0px 1px 2px rgba(0, 0, 0, 0.3));\n",
              "    fill: #FFFFFF;\n",
              "  }\n",
              "</style>\n",
              "\n",
              "    <script>\n",
              "      async function quickchart(key) {\n",
              "        const containerElement = document.querySelector('#' + key);\n",
              "        const charts = await google.colab.kernel.invokeFunction(\n",
              "            'suggestCharts', [key], {});\n",
              "      }\n",
              "    </script>\n",
              "\n",
              "      <script>\n",
              "\n",
              "function displayQuickchartButton(domScope) {\n",
              "  let quickchartButtonEl =\n",
              "    domScope.querySelector('#df-4f3a3c47-5aa8-4efe-bbbf-2ee0caa10ab2 button.colab-df-quickchart');\n",
              "  quickchartButtonEl.style.display =\n",
              "    google.colab.kernel.accessAllowed ? 'block' : 'none';\n",
              "}\n",
              "\n",
              "        displayQuickchartButton(document);\n",
              "      </script>\n",
              "      <style>\n",
              "    .colab-df-container {\n",
              "      display:flex;\n",
              "      flex-wrap:wrap;\n",
              "      gap: 12px;\n",
              "    }\n",
              "\n",
              "    .colab-df-convert {\n",
              "      background-color: #E8F0FE;\n",
              "      border: none;\n",
              "      border-radius: 50%;\n",
              "      cursor: pointer;\n",
              "      display: none;\n",
              "      fill: #1967D2;\n",
              "      height: 32px;\n",
              "      padding: 0 0 0 0;\n",
              "      width: 32px;\n",
              "    }\n",
              "\n",
              "    .colab-df-convert:hover {\n",
              "      background-color: #E2EBFA;\n",
              "      box-shadow: 0px 1px 2px rgba(60, 64, 67, 0.3), 0px 1px 3px 1px rgba(60, 64, 67, 0.15);\n",
              "      fill: #174EA6;\n",
              "    }\n",
              "\n",
              "    [theme=dark] .colab-df-convert {\n",
              "      background-color: #3B4455;\n",
              "      fill: #D2E3FC;\n",
              "    }\n",
              "\n",
              "    [theme=dark] .colab-df-convert:hover {\n",
              "      background-color: #434B5C;\n",
              "      box-shadow: 0px 1px 3px 1px rgba(0, 0, 0, 0.15);\n",
              "      filter: drop-shadow(0px 1px 2px rgba(0, 0, 0, 0.3));\n",
              "      fill: #FFFFFF;\n",
              "    }\n",
              "  </style>\n",
              "\n",
              "      <script>\n",
              "        const buttonEl =\n",
              "          document.querySelector('#df-9aaf0efd-0ddf-44c6-a67f-0120e315a5b4 button.colab-df-convert');\n",
              "        buttonEl.style.display =\n",
              "          google.colab.kernel.accessAllowed ? 'block' : 'none';\n",
              "\n",
              "        async function convertToInteractive(key) {\n",
              "          const element = document.querySelector('#df-9aaf0efd-0ddf-44c6-a67f-0120e315a5b4');\n",
              "          const dataTable =\n",
              "            await google.colab.kernel.invokeFunction('convertToInteractive',\n",
              "                                                     [key], {});\n",
              "          if (!dataTable) return;\n",
              "\n",
              "          const docLinkHtml = 'Like what you see? Visit the ' +\n",
              "            '<a target=\"_blank\" href=https://colab.research.google.com/notebooks/data_table.ipynb>data table notebook</a>'\n",
              "            + ' to learn more about interactive tables.';\n",
              "          element.innerHTML = '';\n",
              "          dataTable['output_type'] = 'display_data';\n",
              "          await google.colab.output.renderOutput(dataTable, element);\n",
              "          const docLink = document.createElement('div');\n",
              "          docLink.innerHTML = docLinkHtml;\n",
              "          element.appendChild(docLink);\n",
              "        }\n",
              "      </script>\n",
              "    </div>\n",
              "  </div>\n"
            ]
          },
          "metadata": {},
          "execution_count": 4
        }
      ]
    },
    {
      "cell_type": "markdown",
      "source": [
        "## New Section"
      ],
      "metadata": {
        "id": "-ll7KzpkQUj9"
      }
    },
    {
      "cell_type": "markdown",
      "source": [
        "##1. Source of data\n"
      ],
      "metadata": {
        "id": "FknuN2R1WAd2"
      }
    },
    {
      "cell_type": "markdown",
      "source": [
        "Kaggle"
      ],
      "metadata": {
        "id": "NInYy6nuWXTR"
      }
    },
    {
      "cell_type": "markdown",
      "source": [
        "##2. Brief description of data\n",
        "\n"
      ],
      "metadata": {
        "id": "HdcGRRoVWFjX"
      }
    },
    {
      "cell_type": "markdown",
      "source": [
        "This dataset focuses on red variants of Spanish wines, exploring popularity and description metrics and their impact on wine quality. The dataset is suitable for classification or regression tasks. The quality classes are ordered and imbalanced, ranging from nearly 5 to 4 points. The main objective is to predict either the wine quality or prices based on the provided data.\n",
        "\n",
        "\n",
        "\n",
        "\n",
        "\n",
        "\n",
        "\n",
        "\n"
      ],
      "metadata": {
        "id": "28h-czTTWon3"
      }
    },
    {
      "cell_type": "markdown",
      "source": [
        "##3. What is the target?\n",
        "\n"
      ],
      "metadata": {
        "id": "ssqXBI_eWImi"
      }
    },
    {
      "cell_type": "markdown",
      "source": [
        "Price / Quality"
      ],
      "metadata": {
        "id": "YcyuoRCoWsJ8"
      }
    },
    {
      "cell_type": "markdown",
      "source": [
        "##4. What does one row represent? (A person? A business? An event? A product?)\n",
        "\n"
      ],
      "metadata": {
        "id": "Q21AYLxYWKvg"
      }
    },
    {
      "cell_type": "markdown",
      "source": [
        "one row in the dataset represents a specific red variant of Spanish wine"
      ],
      "metadata": {
        "id": "R72kzZ13XSWS"
      }
    },
    {
      "cell_type": "markdown",
      "source": [
        "##5. Is this a classification or regression problem?\n",
        "\n"
      ],
      "metadata": {
        "id": "_EH_t1hTWMem"
      }
    },
    {
      "cell_type": "markdown",
      "source": [
        "Classification of preidicting quality/ Regression if predicting wine cost"
      ],
      "metadata": {
        "id": "FKbq6UjKXYPj"
      }
    },
    {
      "cell_type": "markdown",
      "source": [
        "##6. How many features does the data have?\n",
        "\n"
      ],
      "metadata": {
        "id": "8oNGlEuHWOjB"
      }
    },
    {
      "cell_type": "markdown",
      "source": [
        "10 features"
      ],
      "metadata": {
        "id": "r4EX77_eXanT"
      }
    },
    {
      "cell_type": "markdown",
      "source": [
        "##7. How many rows are in the dataset?\n",
        "\n"
      ],
      "metadata": {
        "id": "nDtdpc6VWQXQ"
      }
    },
    {
      "cell_type": "markdown",
      "source": [
        "7500 rows"
      ],
      "metadata": {
        "id": "4-VHxHRRXvEY"
      }
    },
    {
      "cell_type": "markdown",
      "source": [
        "##8. What, if any, challenges do you foresee in cleaning, exploring, or modeling this dataset?\n",
        "\n"
      ],
      "metadata": {
        "id": "0KdVduUBWSJ8"
      }
    },
    {
      "cell_type": "markdown",
      "source": [
        "Data Cleaning: Addressing missing values and inconsistencies.\n",
        "\n",
        "Feature Selection: Choosing relevant attributes to avoid overfitting.\n",
        "\n",
        "Imbalanced Classes: Handling imbalanced wine quality categories.\n",
        "\n",
        "Correlation and Multicollinearity: Managing attribute relationships.\n",
        "\n",
        "Data Scaling: Scaling numerical features for fair comparisons.\n",
        "\n",
        "Outliers: Treating outliers to avoid model bias.\n"
      ],
      "metadata": {
        "id": "wjYnBgwAXxq6"
      }
    }
  ]
}